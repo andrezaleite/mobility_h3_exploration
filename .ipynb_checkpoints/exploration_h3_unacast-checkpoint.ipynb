{
 "cells": [
  {
   "cell_type": "markdown",
   "metadata": {},
   "source": [
    "**Entendendo o H3**\n",
    "\n",
    "O h3 location_id = 8aa8a02c355ffff é um identificador único de uma célula em um determinado nível de resolução na grade H3. Para entender o que ele significa, vamos decompor o índice conforme descrito:\n",
    "- Bits reservados e configurados para 0 (1 bit): O primeiro bit do índice é reservado e sempre será 0.\n",
    "- Modo do H3 Cell (4 bits): A seguir, há 4 bits que indicam o modo. O modo para um H3 Cell index é 1, o que identifica o índice como um hexágono ou pentágono.\n",
    "- Bits reservados e configurados para 0 (3 bits): Estes 3 bits são reservados e sempre são 0.\n",
    "- Resolução da célula (4 bits): Depois, há 4 bits que indicam a resolução da célula. A resolução pode variar de 0 a 15. A resolução determina o tamanho do hexágono: *quanto maior a resolução, menor o hexágono*.\n",
    "- Base cell (7 bits): A base cell é identificada pelos próximos 7 bits, variando de 0 a 121. Cada base cell corresponde a um hexágono de nível 0 na grade H3.\n",
    "- Subsequente de dígitos (45 bits no total): Finalmente, temos 3 bits para cada dígito subsequente que identificam as células em níveis de resolução maiores. Para resoluções não utilizadas, os bits são preenchidos com 7.\n",
    "\n",
    "O valor hexadecimal \"8aa8a02c355ffff\" convertido para binário é:\n",
    "0000100010101010100010100000001011000011010101011111111111111111\n",
    "De acordo com a estrutura do H3 Cell index:\n",
    "- 1 bit reservado e configurado para 0: 0\n",
    "- 4 bits para o modo: 0001 (indica o modo H3 Cell)\n",
    "- 3 bits reservados e configurados para 0: 000\n",
    "- 4 bits para a resolução da célula: 1010 (resolução 10)\n",
    "- 7 bits para a base cell: 1010101 (base cell 85)\n",
    "- 3 bits para cada dígito subsequente até a resolução 15(não usada)\n",
    "\n",
    "Resumo dos componentes:\n",
    "- Modo: 1 (H3 Cell)\n",
    "- Resolução: 10\n",
    "- Base Cell: 85\n",
    "- Dígitos subsequentes: 000, 000, 010, 110, 000, 011, 010, 101, 101, 111, 111 (até a resolução 10)\n",
    "\n",
    "Resolução 10:\n",
    "Quando dizemos que a resolução é 10, estamos nos referindo a um hexágono que é muito mais detalhado do que aqueles em resoluções mais baixas. Especificamente, a cada aumento de resolução, um hexágono é subdividido em 7 hexágonos de nível mais alto, tornando-os menores.\n",
    "\n",
    "Este tamanho de hexágono é utilizado para mapear áreas relativamente pequenas com alta precisão geoespacial, como bairros ou pequenas porções de uma cidade. É útil para aplicações que requerem análise espacial detalhada, como rastreamento de mobilidade humana ou análise de padrões urbanos."
   ]
  },
  {
   "cell_type": "markdown",
   "metadata": {},
   "source": [
    "**H3 Index Inspector**\n",
    "\n",
    "https://observablehq.com/@nrabinowitz/h3-index-inspector?collection=@nrabinowitz/h3\n",
    "\n",
    "\"8aa8a02c355ffff\"\n",
    "- cellArea\t15,522.990 m2\n",
    "- avg edge length\t77.336366 m\n",
    "\n",
    "\"8aa884084077fff\"\n",
    "- cellArea\t15,843.914 m2\n",
    "- avg edge length\t78.121905 m\n",
    "\n",
    "centro do RIO: \"8aa8a06a0c6ffff\""
   ]
  },
  {
   "cell_type": "code",
   "execution_count": 4,
   "metadata": {},
   "outputs": [],
   "source": [
    "import pandas as pd\n",
    "# Carregar o arquivo com os índices H3\n",
    "file_path = '/Users/andreza/mobility_economics_climate/data/h3_visitation_daily_RJ.csv'\n",
    "df = pd.read_csv(file_path)"
   ]
  },
  {
   "cell_type": "code",
   "execution_count": 12,
   "metadata": {},
   "outputs": [
    {
     "name": "stdout",
     "output_type": "stream",
     "text": [
      "Resoluções encontradas: [10]\n",
      "Todos os índices têm resolução 10.\n"
     ]
    }
   ],
   "source": [
    "def h3_resolution(h3_index):\n",
    "    \"\"\"Função para extrair a resolução de um índice H3.\"\"\"\n",
    "    # Converte o índice H3 de hexadecimal para binário\n",
    "    h3_bin = bin(int(h3_index, 16))[2:].zfill(64)\n",
    "    # Os bits 16 a 19 (baseado em zero) são a resolução (posição 12 a 15 em notação zero-indexed)\n",
    "    resolution_bits = h3_bin[12:16]\n",
    "    return int(resolution_bits, 2)\n",
    "\n",
    "# Aplicando a função à coluna location_id\n",
    "df['resolucao'] = df['location_id'].apply(h3_resolution)\n",
    "\n",
    "# Verifica se todos os índices têm a mesma resolução\n",
    "resolutions = df['resolucao'].unique()\n",
    "print(\"Resoluções encontradas:\", resolutions)\n",
    "\n",
    "# Salvar o DataFrame com as resoluções em um novo arquivo CSV\n",
    "#df.to_csv('output_resolutions.csv', index=False)\n",
    "\n",
    "# verificar se todas as resoluções são iguais a 10:\n",
    "if all(df['resolucao'] == 10):\n",
    "    print(\"Todos os índices têm resolução 10.\")\n",
    "else:\n",
    "    print(\"Existem índices com resoluções diferentes de 10.\")\n"
   ]
  },
  {
   "cell_type": "code",
   "execution_count": 7,
   "metadata": {},
   "outputs": [
    {
     "name": "stdout",
     "output_type": "stream",
     "text": [
      "Collecting h3\n",
      "  Downloading h3-3.7.7-cp36-cp36m-macosx_10_9_x86_64.whl (1.0 MB)\n",
      "     |████████████████████████████████| 1.0 MB 429 kB/s            \n",
      "\u001b[?25hInstalling collected packages: h3\n",
      "Successfully installed h3-3.7.7\n",
      "Note: you may need to restart the kernel to use updated packages.\n"
     ]
    }
   ],
   "source": [
    "pip install h3"
   ]
  },
  {
   "cell_type": "code",
   "execution_count": 9,
   "metadata": {},
   "outputs": [
    {
     "name": "stdout",
     "output_type": "stream",
     "text": [
      "Collecting geopy\n",
      "  Downloading geopy-2.2.0-py3-none-any.whl (118 kB)\n",
      "     |████████████████████████████████| 118 kB 2.1 MB/s            \n",
      "\u001b[?25hCollecting geographiclib<2,>=1.49\n",
      "  Downloading geographiclib-1.52-py3-none-any.whl (38 kB)\n",
      "Installing collected packages: geographiclib, geopy\n",
      "Successfully installed geographiclib-1.52 geopy-2.2.0\n",
      "Note: you may need to restart the kernel to use updated packages.\n"
     ]
    }
   ],
   "source": [
    "pip install geopy"
   ]
  },
  {
   "cell_type": "code",
   "execution_count": 11,
   "metadata": {},
   "outputs": [
    {
     "name": "stdout",
     "output_type": "stream",
     "text": [
      "O hexágono mais próximo do Rio de Janeiro tem o location_id: 8aa8a06a0c6ffff\n",
      "Distância: 65.4906431212114 metros\n"
     ]
    }
   ],
   "source": [
    "from shapely.geometry import Point\n",
    "import h3\n",
    "from geopy.distance import geodesic\n",
    "\n",
    "# Coordenadas aproximadas da capital Rio de Janeiro\n",
    "rio_de_janeiro_coords = (-22.9068, -43.1729)  # (latitude, longitude)\n",
    "\n",
    "# Função para calcular a distância geodésica entre dois pontos\n",
    "def calculate_distance(point_coords, reference_coords):\n",
    "    return geodesic(point_coords, reference_coords).meters\n",
    "\n",
    "# Função para extrair a latitude e longitude do ponto da coluna 'geometry'\n",
    "def extract_coords(geometry):\n",
    "    point = Point(map(float, geometry.strip('POINT ()').split()))\n",
    "    return (point.y, point.x)\n",
    "\n",
    "# Extrair as coordenadas de cada ponto e calcular a distância para o Rio de Janeiro\n",
    "df['coords'] = df['geometry'].apply(extract_coords)\n",
    "df['distance_to_rio'] = df['coords'].apply(lambda x: calculate_distance(x, rio_de_janeiro_coords))\n",
    "\n",
    "# Identificar o hexágono com a menor distância\n",
    "closest_hexagon = df.loc[df['distance_to_rio'].idxmin()]\n",
    "\n",
    "print(\"O hexágono mais próximo do Rio de Janeiro tem o location_id:\", closest_hexagon['location_id'])\n",
    "print(\"Distância:\", closest_hexagon['distance_to_rio'], \"metros\")\n",
    "\n",
    "# salvar o DataFrame atualizado\n",
    "#df.to_csv('output_with_distances.csv', index=False)\n"
   ]
  },
  {
   "cell_type": "markdown",
   "metadata": {},
   "source": [
    "*testando as visualizações *\n",
    "https://github.com/uber/h3-py-notebooks/blob/master/notebooks/usage.ipynb"
   ]
  },
  {
   "cell_type": "code",
   "execution_count": 13,
   "metadata": {},
   "outputs": [],
   "source": [
    "from h3 import h3\n",
    "import folium\n",
    "\n",
    "def visualize_hexagons(hexagons, color=\"red\", folium_map=None):\n",
    "    \"\"\"\n",
    "    hexagons is a list of hexcluster. Each hexcluster is a list of hexagons. \n",
    "    eg. [[hex1, hex2], [hex3, hex4]]\n",
    "    \"\"\"\n",
    "    polylines = []\n",
    "    lat = []\n",
    "    lng = []\n",
    "    for hex in hexagons:\n",
    "        polygons = h3.h3_set_to_multi_polygon([hex], geo_json=False)\n",
    "        # flatten polygons into loops.\n",
    "        outlines = [loop for polygon in polygons for loop in polygon]\n",
    "        polyline = [outline + [outline[0]] for outline in outlines][0]\n",
    "        lat.extend(map(lambda v:v[0],polyline))\n",
    "        lng.extend(map(lambda v:v[1],polyline))\n",
    "        polylines.append(polyline)\n",
    "    \n",
    "    if folium_map is None:\n",
    "        m = folium.Map(location=[sum(lat)/len(lat), sum(lng)/len(lng)], zoom_start=13, tiles='cartodbpositron')\n",
    "    else:\n",
    "        m = folium_map\n",
    "    for polyline in polylines:\n",
    "        my_PolyLine=folium.PolyLine(locations=polyline,weight=8,color=color)\n",
    "        m.add_child(my_PolyLine)\n",
    "    return m\n",
    "    \n",
    "\n",
    "def visualize_polygon(polyline, color):\n",
    "    polyline.append(polyline[0])\n",
    "    lat = [p[0] for p in polyline]\n",
    "    lng = [p[1] for p in polyline]\n",
    "    m = folium.Map(location=[sum(lat)/len(lat), sum(lng)/len(lng)], zoom_start=13, tiles='cartodbpositron')\n",
    "    my_PolyLine=folium.PolyLine(locations=polyline,weight=8,color=color)\n",
    "    m.add_child(my_PolyLine)\n",
    "    return m"
   ]
  },
  {
   "cell_type": "code",
   "execution_count": 18,
   "metadata": {
    "scrolled": true
   },
   "outputs": [
    {
     "data": {
      "text/html": [
       "<div style=\"width:100%;\"><div style=\"position:relative;width:100%;height:0;padding-bottom:60%;\"><span style=\"color:#565656\">Make this Notebook Trusted to load map: File -> Trust Notebook</span><iframe src=\"about:blank\" style=\"position:absolute;width:100%;height:100%;left:0;top:0;border:none !important;\" data-html=%3C%21DOCTYPE%20html%3E%0A%3Chead%3E%20%20%20%20%0A%20%20%20%20%3Cmeta%20http-equiv%3D%22content-type%22%20content%3D%22text/html%3B%20charset%3DUTF-8%22%20/%3E%0A%20%20%20%20%0A%20%20%20%20%20%20%20%20%3Cscript%3E%0A%20%20%20%20%20%20%20%20%20%20%20%20L_NO_TOUCH%20%3D%20false%3B%0A%20%20%20%20%20%20%20%20%20%20%20%20L_DISABLE_3D%20%3D%20false%3B%0A%20%20%20%20%20%20%20%20%3C/script%3E%0A%20%20%20%20%0A%20%20%20%20%3Cstyle%3Ehtml%2C%20body%20%7Bwidth%3A%20100%25%3Bheight%3A%20100%25%3Bmargin%3A%200%3Bpadding%3A%200%3B%7D%3C/style%3E%0A%20%20%20%20%3Cstyle%3E%23map%20%7Bposition%3Aabsolute%3Btop%3A0%3Bbottom%3A0%3Bright%3A0%3Bleft%3A0%3B%7D%3C/style%3E%0A%20%20%20%20%3Cscript%20src%3D%22https%3A//cdn.jsdelivr.net/npm/leaflet%401.6.0/dist/leaflet.js%22%3E%3C/script%3E%0A%20%20%20%20%3Cscript%20src%3D%22https%3A//code.jquery.com/jquery-1.12.4.min.js%22%3E%3C/script%3E%0A%20%20%20%20%3Cscript%20src%3D%22https%3A//maxcdn.bootstrapcdn.com/bootstrap/3.2.0/js/bootstrap.min.js%22%3E%3C/script%3E%0A%20%20%20%20%3Cscript%20src%3D%22https%3A//cdnjs.cloudflare.com/ajax/libs/Leaflet.awesome-markers/2.0.2/leaflet.awesome-markers.js%22%3E%3C/script%3E%0A%20%20%20%20%3Clink%20rel%3D%22stylesheet%22%20href%3D%22https%3A//cdn.jsdelivr.net/npm/leaflet%401.6.0/dist/leaflet.css%22/%3E%0A%20%20%20%20%3Clink%20rel%3D%22stylesheet%22%20href%3D%22https%3A//maxcdn.bootstrapcdn.com/bootstrap/3.2.0/css/bootstrap.min.css%22/%3E%0A%20%20%20%20%3Clink%20rel%3D%22stylesheet%22%20href%3D%22https%3A//maxcdn.bootstrapcdn.com/bootstrap/3.2.0/css/bootstrap-theme.min.css%22/%3E%0A%20%20%20%20%3Clink%20rel%3D%22stylesheet%22%20href%3D%22https%3A//maxcdn.bootstrapcdn.com/font-awesome/4.6.3/css/font-awesome.min.css%22/%3E%0A%20%20%20%20%3Clink%20rel%3D%22stylesheet%22%20href%3D%22https%3A//cdnjs.cloudflare.com/ajax/libs/Leaflet.awesome-markers/2.0.2/leaflet.awesome-markers.css%22/%3E%0A%20%20%20%20%3Clink%20rel%3D%22stylesheet%22%20href%3D%22https%3A//cdn.jsdelivr.net/gh/python-visualization/folium/folium/templates/leaflet.awesome.rotate.min.css%22/%3E%0A%20%20%20%20%0A%20%20%20%20%20%20%20%20%20%20%20%20%3Cmeta%20name%3D%22viewport%22%20content%3D%22width%3Ddevice-width%2C%0A%20%20%20%20%20%20%20%20%20%20%20%20%20%20%20%20initial-scale%3D1.0%2C%20maximum-scale%3D1.0%2C%20user-scalable%3Dno%22%20/%3E%0A%20%20%20%20%20%20%20%20%20%20%20%20%3Cstyle%3E%0A%20%20%20%20%20%20%20%20%20%20%20%20%20%20%20%20%23map_10ec8a2135644333867a0eefe79eefb0%20%7B%0A%20%20%20%20%20%20%20%20%20%20%20%20%20%20%20%20%20%20%20%20position%3A%20relative%3B%0A%20%20%20%20%20%20%20%20%20%20%20%20%20%20%20%20%20%20%20%20width%3A%20100.0%25%3B%0A%20%20%20%20%20%20%20%20%20%20%20%20%20%20%20%20%20%20%20%20height%3A%20100.0%25%3B%0A%20%20%20%20%20%20%20%20%20%20%20%20%20%20%20%20%20%20%20%20left%3A%200.0%25%3B%0A%20%20%20%20%20%20%20%20%20%20%20%20%20%20%20%20%20%20%20%20top%3A%200.0%25%3B%0A%20%20%20%20%20%20%20%20%20%20%20%20%20%20%20%20%7D%0A%20%20%20%20%20%20%20%20%20%20%20%20%3C/style%3E%0A%20%20%20%20%20%20%20%20%0A%3C/head%3E%0A%3Cbody%3E%20%20%20%20%0A%20%20%20%20%0A%20%20%20%20%20%20%20%20%20%20%20%20%3Cdiv%20class%3D%22folium-map%22%20id%3D%22map_10ec8a2135644333867a0eefe79eefb0%22%20%3E%3C/div%3E%0A%20%20%20%20%20%20%20%20%0A%3C/body%3E%0A%3Cscript%3E%20%20%20%20%0A%20%20%20%20%0A%20%20%20%20%20%20%20%20%20%20%20%20var%20map_10ec8a2135644333867a0eefe79eefb0%20%3D%20L.map%28%0A%20%20%20%20%20%20%20%20%20%20%20%20%20%20%20%20%22map_10ec8a2135644333867a0eefe79eefb0%22%2C%0A%20%20%20%20%20%20%20%20%20%20%20%20%20%20%20%20%7B%0A%20%20%20%20%20%20%20%20%20%20%20%20%20%20%20%20%20%20%20%20center%3A%20%5B-22.907452066833425%2C%20-43.17266579150066%5D%2C%0A%20%20%20%20%20%20%20%20%20%20%20%20%20%20%20%20%20%20%20%20crs%3A%20L.CRS.EPSG3857%2C%0A%20%20%20%20%20%20%20%20%20%20%20%20%20%20%20%20%20%20%20%20zoom%3A%2013%2C%0A%20%20%20%20%20%20%20%20%20%20%20%20%20%20%20%20%20%20%20%20zoomControl%3A%20true%2C%0A%20%20%20%20%20%20%20%20%20%20%20%20%20%20%20%20%20%20%20%20preferCanvas%3A%20false%2C%0A%20%20%20%20%20%20%20%20%20%20%20%20%20%20%20%20%7D%0A%20%20%20%20%20%20%20%20%20%20%20%20%29%3B%0A%0A%20%20%20%20%20%20%20%20%20%20%20%20%0A%0A%20%20%20%20%20%20%20%20%0A%20%20%20%20%0A%20%20%20%20%20%20%20%20%20%20%20%20var%20tile_layer_1cd7c88359174d80ba78ed5f9b8eb9cc%20%3D%20L.tileLayer%28%0A%20%20%20%20%20%20%20%20%20%20%20%20%20%20%20%20%22https%3A//cartodb-basemaps-%7Bs%7D.global.ssl.fastly.net/light_all/%7Bz%7D/%7Bx%7D/%7By%7D.png%22%2C%0A%20%20%20%20%20%20%20%20%20%20%20%20%20%20%20%20%7B%22attribution%22%3A%20%22%5Cu0026copy%3B%20%5Cu003ca%20href%3D%5C%22http%3A//www.openstreetmap.org/copyright%5C%22%5Cu003eOpenStreetMap%5Cu003c/a%5Cu003e%20contributors%20%5Cu0026copy%3B%20%5Cu003ca%20href%3D%5C%22http%3A//cartodb.com/attributions%5C%22%5Cu003eCartoDB%5Cu003c/a%5Cu003e%2C%20CartoDB%20%5Cu003ca%20href%20%3D%5C%22http%3A//cartodb.com/attributions%5C%22%5Cu003eattributions%5Cu003c/a%5Cu003e%22%2C%20%22detectRetina%22%3A%20false%2C%20%22maxNativeZoom%22%3A%2018%2C%20%22maxZoom%22%3A%2018%2C%20%22minZoom%22%3A%200%2C%20%22noWrap%22%3A%20false%2C%20%22opacity%22%3A%201%2C%20%22subdomains%22%3A%20%22abc%22%2C%20%22tms%22%3A%20false%7D%0A%20%20%20%20%20%20%20%20%20%20%20%20%29.addTo%28map_10ec8a2135644333867a0eefe79eefb0%29%3B%0A%20%20%20%20%20%20%20%20%0A%20%20%20%20%0A%20%20%20%20%20%20%20%20%20%20%20%20var%20poly_line_b3060d6f2184484ab16f9998b36c2006%20%3D%20L.polyline%28%0A%20%20%20%20%20%20%20%20%20%20%20%20%20%20%20%20%5B%5B-22.908024652134824%2C%20-43.17255397566967%5D%2C%20%5B-22.907595708113362%2C%20-43.171958287276425%5D%2C%20%5B-22.906927691241712%2C%20-43.17208873977568%5D%2C%20%5B-22.90668861907423%2C%20-43.17281487919761%5D%2C%20%5B-22.907117564473054%2C%20-43.17341056697209%5D%2C%20%5B-22.90778558066195%2C%20-43.173280115943456%5D%2C%20%5B-22.908024652134824%2C%20-43.17255397566967%5D%5D%2C%0A%20%20%20%20%20%20%20%20%20%20%20%20%20%20%20%20%7B%22bubblingMouseEvents%22%3A%20true%2C%20%22color%22%3A%20%22red%22%2C%20%22dashArray%22%3A%20null%2C%20%22dashOffset%22%3A%20null%2C%20%22fill%22%3A%20false%2C%20%22fillColor%22%3A%20%22red%22%2C%20%22fillOpacity%22%3A%200.2%2C%20%22fillRule%22%3A%20%22evenodd%22%2C%20%22lineCap%22%3A%20%22round%22%2C%20%22lineJoin%22%3A%20%22round%22%2C%20%22noClip%22%3A%20false%2C%20%22opacity%22%3A%201.0%2C%20%22smoothFactor%22%3A%201.0%2C%20%22stroke%22%3A%20true%2C%20%22weight%22%3A%208%7D%0A%20%20%20%20%20%20%20%20%20%20%20%20%29.addTo%28map_10ec8a2135644333867a0eefe79eefb0%29%3B%0A%20%20%20%20%20%20%20%20%0A%3C/script%3E onload=\"this.contentDocument.open();this.contentDocument.write(    decodeURIComponent(this.getAttribute('data-html')));this.contentDocument.close();\" allowfullscreen webkitallowfullscreen mozallowfullscreen></iframe></div></div>"
      ],
      "text/plain": [
       "<folium.folium.Map at 0x7fd5451d5dd8>"
      ]
     },
     "metadata": {},
     "output_type": "display_data"
    }
   ],
   "source": [
    "h3_address = h3.geo_to_h3(-22.90735663821551, -43.172684427576876, 10) # lat, lng, hex resolution  \n",
    "#(37.3615593, -122.0553238, 9)\n",
    "\n",
    "m = visualize_hexagons([h3_address])\n",
    "display(m)"
   ]
  },
  {
   "cell_type": "code",
   "execution_count": null,
   "metadata": {},
   "outputs": [],
   "source": []
  }
 ],
 "metadata": {
  "kernelspec": {
   "display_name": "Python 3",
   "language": "python",
   "name": "python3"
  },
  "language_info": {
   "codemirror_mode": {
    "name": "ipython",
    "version": 3
   },
   "file_extension": ".py",
   "mimetype": "text/x-python",
   "name": "python",
   "nbconvert_exporter": "python",
   "pygments_lexer": "ipython3",
   "version": "3.6.2"
  }
 },
 "nbformat": 4,
 "nbformat_minor": 4
}
