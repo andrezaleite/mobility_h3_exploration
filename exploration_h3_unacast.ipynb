{
 "cells": [
  {
   "cell_type": "markdown",
   "metadata": {},
   "source": [
    "**Entendendo o H3**\n",
    "\n",
    "O h3 location_id = 8aa8a02c355ffff é um identificador único de uma célula em um determinado nível de resolução na grade H3. Para entender o que ele significa, vamos decompor o índice conforme descrito:\n",
    "- Bits reservados e configurados para 0 (1 bit): O primeiro bit do índice é reservado e sempre será 0.\n",
    "- Modo do H3 Cell (4 bits): A seguir, há 4 bits que indicam o modo. O modo para um H3 Cell index é 1, o que identifica o índice como um hexágono ou pentágono.\n",
    "- Bits reservados e configurados para 0 (3 bits): Estes 3 bits são reservados e sempre são 0.\n",
    "- Resolução da célula (4 bits): Depois, há 4 bits que indicam a resolução da célula. A resolução pode variar de 0 a 15. A resolução determina o tamanho do hexágono: *quanto maior a resolução, menor o hexágono*.\n",
    "- Base cell (7 bits): A base cell é identificada pelos próximos 7 bits, variando de 0 a 121. Cada base cell corresponde a um hexágono de nível 0 na grade H3.\n",
    "- Subsequente de dígitos (45 bits no total): Finalmente, temos 3 bits para cada dígito subsequente que identificam as células em níveis de resolução maiores. Para resoluções não utilizadas, os bits são preenchidos com 7.\n",
    "\n",
    "O valor hexadecimal \"8aa8a02c355ffff\" convertido para binário é:\n",
    "0000100010101010100010100000001011000011010101011111111111111111\n",
    "De acordo com a estrutura do H3 Cell index:\n",
    "- 1 bit reservado e configurado para 0: 0\n",
    "- 4 bits para o modo: 0001 (indica o modo H3 Cell)\n",
    "- 3 bits reservados e configurados para 0: 000\n",
    "- 4 bits para a resolução da célula: 1010 (resolução 10)\n",
    "- 7 bits para a base cell: 1010101 (base cell 85)\n",
    "- 3 bits para cada dígito subsequente até a resolução 15(não usada)\n",
    "\n",
    "Resumo dos componentes:\n",
    "- Modo: 1 (H3 Cell)\n",
    "- Resolução: 10\n",
    "- Base Cell: 85\n",
    "- Dígitos subsequentes: 000, 000, 010, 110, 000, 011, 010, 101, 101, 111, 111 (até a resolução 10)\n",
    "\n",
    "Resolução 10:\n",
    "Quando dizemos que a resolução é 10, estamos nos referindo a um hexágono que é muito mais detalhado do que aqueles em resoluções mais baixas. Especificamente, a cada aumento de resolução, um hexágono é subdividido em 7 hexágonos de nível mais alto, tornando-os menores.\n",
    "\n",
    "Este tamanho de hexágono é utilizado para mapear áreas relativamente pequenas com alta precisão geoespacial, como bairros ou pequenas porções de uma cidade. É útil para aplicações que requerem análise espacial detalhada, como rastreamento de mobilidade humana ou análise de padrões urbanos."
   ]
  },
  {
   "cell_type": "markdown",
   "metadata": {},
   "source": [
    "H3 Index Inspector\n",
    "https://observablehq.com/@nrabinowitz/h3-index-inspector?collection=@nrabinowitz/h3\n",
    "\n",
    "\"8aa8a02c355ffff\"\n",
    "- cellArea\t15,522.990 m2\n",
    "- avg edge length\t77.336366 m\n",
    "\n",
    "\"8aa884084077fff\"\n",
    "- cellArea\t15,843.914 m2\n",
    "- avg edge length\t78.121905 m\n",
    "\n",
    "centro do RIO: \"8aa8a06a0c6ffff\""
   ]
  },
  {
   "cell_type": "code",
   "execution_count": 4,
   "metadata": {},
   "outputs": [],
   "source": [
    "import pandas as pd\n",
    "# Carregar o arquivo com os índices H3\n",
    "file_path = '/Users/andreza/mobility_economics_climate/data/h3_visitation_daily_RJ.csv'\n",
    "df = pd.read_csv(file_path)"
   ]
  },
  {
   "cell_type": "code",
   "execution_count": 12,
   "metadata": {},
   "outputs": [
    {
     "name": "stdout",
     "output_type": "stream",
     "text": [
      "Resoluções encontradas: [10]\n",
      "Todos os índices têm resolução 10.\n"
     ]
    }
   ],
   "source": [
    "def h3_resolution(h3_index):\n",
    "    \"\"\"Função para extrair a resolução de um índice H3.\"\"\"\n",
    "    # Converte o índice H3 de hexadecimal para binário\n",
    "    h3_bin = bin(int(h3_index, 16))[2:].zfill(64)\n",
    "    # Os bits 16 a 19 (baseado em zero) são a resolução (posição 12 a 15 em notação zero-indexed)\n",
    "    resolution_bits = h3_bin[12:16]\n",
    "    return int(resolution_bits, 2)\n",
    "\n",
    "# Aplicando a função à coluna location_id\n",
    "df['resolucao'] = df['location_id'].apply(h3_resolution)\n",
    "\n",
    "# Verifica se todos os índices têm a mesma resolução\n",
    "resolutions = df['resolucao'].unique()\n",
    "print(\"Resoluções encontradas:\", resolutions)\n",
    "\n",
    "# Salvar o DataFrame com as resoluções em um novo arquivo CSV\n",
    "#df.to_csv('output_resolutions.csv', index=False)\n",
    "\n",
    "# verificar se todas as resoluções são iguais a 10:\n",
    "if all(df['resolucao'] == 10):\n",
    "    print(\"Todos os índices têm resolução 10.\")\n",
    "else:\n",
    "    print(\"Existem índices com resoluções diferentes de 10.\")\n"
   ]
  },
  {
   "cell_type": "code",
   "execution_count": 7,
   "metadata": {},
   "outputs": [
    {
     "name": "stdout",
     "output_type": "stream",
     "text": [
      "Collecting h3\n",
      "  Downloading h3-3.7.7-cp36-cp36m-macosx_10_9_x86_64.whl (1.0 MB)\n",
      "     |████████████████████████████████| 1.0 MB 429 kB/s            \n",
      "\u001b[?25hInstalling collected packages: h3\n",
      "Successfully installed h3-3.7.7\n",
      "Note: you may need to restart the kernel to use updated packages.\n"
     ]
    }
   ],
   "source": [
    "pip install h3"
   ]
  },
  {
   "cell_type": "code",
   "execution_count": 9,
   "metadata": {},
   "outputs": [
    {
     "name": "stdout",
     "output_type": "stream",
     "text": [
      "Collecting geopy\n",
      "  Downloading geopy-2.2.0-py3-none-any.whl (118 kB)\n",
      "     |████████████████████████████████| 118 kB 2.1 MB/s            \n",
      "\u001b[?25hCollecting geographiclib<2,>=1.49\n",
      "  Downloading geographiclib-1.52-py3-none-any.whl (38 kB)\n",
      "Installing collected packages: geographiclib, geopy\n",
      "Successfully installed geographiclib-1.52 geopy-2.2.0\n",
      "Note: you may need to restart the kernel to use updated packages.\n"
     ]
    }
   ],
   "source": [
    "pip install geopy"
   ]
  },
  {
   "cell_type": "code",
   "execution_count": 11,
   "metadata": {},
   "outputs": [
    {
     "name": "stdout",
     "output_type": "stream",
     "text": [
      "O hexágono mais próximo do Rio de Janeiro tem o location_id: 8aa8a06a0c6ffff\n",
      "Distância: 65.4906431212114 metros\n"
     ]
    }
   ],
   "source": [
    "from shapely.geometry import Point\n",
    "import h3\n",
    "from geopy.distance import geodesic\n",
    "\n",
    "# Coordenadas aproximadas da capital Rio de Janeiro\n",
    "rio_de_janeiro_coords = (-22.9068, -43.1729)  # (latitude, longitude)\n",
    "\n",
    "# Função para calcular a distância geodésica entre dois pontos\n",
    "def calculate_distance(point_coords, reference_coords):\n",
    "    return geodesic(point_coords, reference_coords).meters\n",
    "\n",
    "# Função para extrair a latitude e longitude do ponto da coluna 'geometry'\n",
    "def extract_coords(geometry):\n",
    "    point = Point(map(float, geometry.strip('POINT ()').split()))\n",
    "    return (point.y, point.x)\n",
    "\n",
    "# Extrair as coordenadas de cada ponto e calcular a distância para o Rio de Janeiro\n",
    "df['coords'] = df['geometry'].apply(extract_coords)\n",
    "df['distance_to_rio'] = df['coords'].apply(lambda x: calculate_distance(x, rio_de_janeiro_coords))\n",
    "\n",
    "# Identificar o hexágono com a menor distância\n",
    "closest_hexagon = df.loc[df['distance_to_rio'].idxmin()]\n",
    "\n",
    "print(\"O hexágono mais próximo do Rio de Janeiro tem o location_id:\", closest_hexagon['location_id'])\n",
    "print(\"Distância:\", closest_hexagon['distance_to_rio'], \"metros\")\n",
    "\n",
    "# salvar o DataFrame atualizado\n",
    "#df.to_csv('output_with_distances.csv', index=False)\n"
   ]
  },
  {
   "cell_type": "code",
   "execution_count": null,
   "metadata": {},
   "outputs": [],
   "source": []
  }
 ],
 "metadata": {
  "kernelspec": {
   "display_name": "Python 3",
   "language": "python",
   "name": "python3"
  },
  "language_info": {
   "codemirror_mode": {
    "name": "ipython",
    "version": 3
   },
   "file_extension": ".py",
   "mimetype": "text/x-python",
   "name": "python",
   "nbconvert_exporter": "python",
   "pygments_lexer": "ipython3",
   "version": "3.6.2"
  }
 },
 "nbformat": 4,
 "nbformat_minor": 4
}
